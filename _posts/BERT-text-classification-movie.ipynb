{
 "cells": [
  {
   "cell_type": "markdown",
   "metadata": {
    "colab_type": "text",
    "id": "2pZ5Ios9YtmN"
   },
   "source": [
    "# BERT text classification on movie dataset"
   ]
  },
  {
   "cell_type": "markdown",
   "metadata": {
    "colab_type": "text",
    "id": "lMKBrvUkoFWS"
   },
   "source": [
    "In this notebook, we will use Hugging face [Transformers](https://huggingface.co/transformers/) to build BERT model on text classification task with [Tensorflow 2.0](https://www.tensorflow.org/guide/effective_tf2). \n",
    "\n",
    "Notes: this notebook is entirely run on [Google colab](https://colab.research.google.com/) with GPU. If you start a new notebook, you need to choose \"Runtime\"->\"Change runtime type\" ->\"GPU\" at the begining."
   ]
  },
  {
   "cell_type": "markdown",
   "metadata": {
    "colab_type": "text",
    "id": "J34ii2FxZDR4"
   },
   "source": [
    "### Introduction of BERT"
   ]
  },
  {
   "cell_type": "markdown",
   "metadata": {
    "colab_type": "text",
    "id": "LWqjcn0GXCGW"
   },
   "source": [
    "[BERT](https://https://arxiv.org/abs/1810.04805)  ( which stands for Bidirectional Encoder Representations from\n",
    "Transformers) as a languge model was introduced by Jacob et. al. at 2018 from Google. BERT is designed to pretrain deep bidirectional representations from unlabeled text by jointly conditioning on both left and right context in all layers. \n",
    "\n",
    "The core of BERT is tranformer. For those who don't know what is transoformer, [\"Attention Is All You Need\"](https://arxiv.org/abs/1706.03762) and this [blog](https://mchromiak.github.io/articles/2017/Sep/12/Transformer-Attention-is-all-you-need/#.Xk1qTChKhPb) are good resources to get an ideal how attention mechanism works and how transformer works.\n",
    "\n"
   ]
  },
  {
   "cell_type": "markdown",
   "metadata": {
    "colab_type": "text",
    "id": "E8glgw8oaXzy"
   },
   "source": [
    "### Introduction of huggingface or Transformers"
   ]
  },
  {
   "cell_type": "markdown",
   "metadata": {
    "colab_type": "text",
    "id": "6wUHUS8UaakZ"
   },
   "source": [
    "Hugging face is a company which invented a pacakge called [Transformers](https://github.com/huggingface/transformers). It provides state-of-the-art general-purpose architectures (BERT, GPT-2, RoBERTa, XLM, DistilBert, XLNet, CTRL...) for Natural Language Understanding (NLU) and Natural Language Generation (NLG) with over 32+ pretrained models in 100+ languages and deep interoperability between TensorFlow 2.0 and PyTorch."
   ]
  },
  {
   "cell_type": "markdown",
   "metadata": {
    "colab_type": "text",
    "id": "ip5CiZiAqUbz"
   },
   "source": [
    "TensorFlow uses layers of abstraction when putting together a model. Operations (such as matrix algebra) can occur at a low level, and an abstraction of a neural network layer can occur at a higher level. One of these higher levels of abstraction is called a Keras model, and Huggingface uses this model as a way to abstract some of the granular details involved in using BERT for transfer learning."
   ]
  },
  {
   "cell_type": "markdown",
   "metadata": {
    "colab_type": "text",
    "id": "YHy-9GxObwm-"
   },
   "source": [
    "The Transformer is mainly developed based on the pytorch but the TensorFLow 2.0 version implementation on BERT is also fantasic. I am a fan of tensorflow, so in this notebook, we will implement a classification task using Transformers with TF 2.0."
   ]
  },
  {
   "cell_type": "markdown",
   "metadata": {
    "colab_type": "text",
    "id": "mwIhCLdYbTll"
   },
   "source": [
    "# Run BERT"
   ]
  },
  {
   "cell_type": "markdown",
   "metadata": {
    "colab_type": "text",
    "id": "UT1t3SBDdaUo"
   },
   "source": [
    "Before we will start taking about the model and data, we need setup packages in Google colab.   \n",
    "So we need to upgrade **pip**, install **tensorflow-gpu 2.0** and **transformers**. It takes about 1 min to run. You may notice here, I use tensorflow-gpu instead of tensorflow, becuase bert use a lot of computation resources, gpu will run much faster than cpu. The good thing is, you only need the gpu package installed. All other operations are same in regular tensorflow. The TF infrastructure will handle it. "
   ]
  },
  {
   "cell_type": "markdown",
   "metadata": {
    "colab_type": "text",
    "id": "3Cdc5GQ5ZURe"
   },
   "source": [
    "## Install package"
   ]
  },
  {
   "cell_type": "code",
   "execution_count": 1,
   "metadata": {
    "colab": {
     "base_uri": "https://localhost:8080/",
     "height": 221
    },
    "colab_type": "code",
    "executionInfo": {
     "elapsed": 107913,
     "status": "ok",
     "timestamp": 1582072521038,
     "user": {
      "displayName": "Yongze Yu",
      "photoUrl": "",
      "userId": "18328208656182681139"
     },
     "user_tz": 300
    },
    "id": "658p25TyYjzI",
    "outputId": "a9d09faa-1be8-46e1-c5f8-05cc05409994"
   },
   "outputs": [
    {
     "name": "stdout",
     "output_type": "stream",
     "text": [
      "\u001b[K     |████████████████████████████████| 1.4MB 15.4MB/s \n",
      "\u001b[K     |████████████████████████████████| 380.8 MB 38 kB/s \n",
      "\u001b[K     |████████████████████████████████| 449 kB 49.6 MB/s \n",
      "\u001b[K     |████████████████████████████████| 3.8 MB 66.3 MB/s \n",
      "\u001b[31mERROR: tensorflow 1.15.0 has requirement tensorboard<1.16.0,>=1.15.0, but you'll have tensorboard 2.0.2 which is incompatible.\u001b[0m\n",
      "\u001b[31mERROR: tensorflow 1.15.0 has requirement tensorflow-estimator==1.15.1, but you'll have tensorflow-estimator 2.0.1 which is incompatible.\u001b[0m\n",
      "\u001b[K     |████████████████████████████████| 475 kB 22.8 MB/s \n",
      "\u001b[K     |████████████████████████████████| 1.0 MB 56.0 MB/s \n",
      "\u001b[K     |████████████████████████████████| 860 kB 104.8 MB/s \n",
      "\u001b[K     |████████████████████████████████| 3.1 MB 76.9 MB/s \n",
      "\u001b[?25h  Building wheel for sacremoses (setup.py) ... \u001b[?25l\u001b[?25hdone\n"
     ]
    }
   ],
   "source": [
    "!pip install -q --upgrade pip\n",
    "!pip install -q tensorflow-gpu==2.0.0\n",
    "!pip install -q transformers"
   ]
  },
  {
   "cell_type": "markdown",
   "metadata": {
    "colab_type": "text",
    "id": "n4x7p5sIovbw"
   },
   "source": [
    "## Prepare dataset"
   ]
  },
  {
   "cell_type": "markdown",
   "metadata": {
    "colab_type": "text",
    "id": "FMuBbJRpZYB0"
   },
   "source": [
    "### Download data"
   ]
  },
  {
   "cell_type": "markdown",
   "metadata": {
    "colab_type": "text",
    "id": "xgllRiNSu1LM"
   },
   "source": [
    "In this example , we will use standford movie review sentiment analysis data, it has been upload on [Kaggle](https://www.kaggle.com/atulanandjha/imdb-50k-movie-reviews-test-your-bert). It contian 25000 train and 25000 test review texts and labels as 'pos' and 'neg', which has been anotaited their sentiments. Task is to use text to build claissifier to identify it's sentiment.  I have downloaded it and upload into my repo."
   ]
  },
  {
   "cell_type": "code",
   "execution_count": 2,
   "metadata": {
    "colab": {
     "base_uri": "https://localhost:8080/",
     "height": 134
    },
    "colab_type": "code",
    "executionInfo": {
     "elapsed": 11613,
     "status": "ok",
     "timestamp": 1582072538821,
     "user": {
      "displayName": "Yongze Yu",
      "photoUrl": "",
      "userId": "18328208656182681139"
     },
     "user_tz": 300
    },
    "id": "ls0tgkqIZ01M",
    "outputId": "d555b694-1804-4b6f-a1ba-e25ca5e10bb3"
   },
   "outputs": [
    {
     "name": "stdout",
     "output_type": "stream",
     "text": [
      "Cloning into 'movie-sst2'...\n",
      "remote: Enumerating objects: 8, done.\u001b[K\n",
      "remote: Counting objects: 100% (8/8), done.\u001b[K\n",
      "remote: Compressing objects: 100% (7/7), done.\u001b[K\n",
      "remote: Total 8 (delta 0), reused 8 (delta 0), pack-reused 0\u001b[K\n",
      "Unpacking objects: 100% (8/8), done.\n",
      "/content/movie-sst2\n"
     ]
    }
   ],
   "source": [
    "!git clone https://github.com/yuyongze/movie-sst2.git\n",
    "%cd movie-sst2"
   ]
  },
  {
   "cell_type": "markdown",
   "metadata": {
    "colab_type": "text",
    "id": "2sM5nfydUL4O"
   },
   "source": [
    "### Load data"
   ]
  },
  {
   "cell_type": "code",
   "execution_count": 0,
   "metadata": {
    "colab": {},
    "colab_type": "code",
    "id": "1Cd0DReyZCPd"
   },
   "outputs": [],
   "source": [
    "import tensorflow as tf\n",
    "import pandas as pd\n",
    "from tensorflow.python.lib.io.tf_record import TFRecordWriter"
   ]
  },
  {
   "cell_type": "markdown",
   "metadata": {
    "colab_type": "text",
    "id": "Dv-AKtfz9Uo5"
   },
   "source": [
    "Read csv file, we notice that the sentiment is labeled as 'pos' and 'neg', we replace the 'pos' as 1 and 'neg' as 0,\n",
    "And inthis example, we are using only 20% data (**5000 examples**) as a toy example to demonstrate the model can work well. "
   ]
  },
  {
   "cell_type": "code",
   "execution_count": 0,
   "metadata": {
    "colab": {},
    "colab_type": "code",
    "id": "LMu80eJeZ2-D"
   },
   "outputs": [],
   "source": [
    "# fraction of sample pass to the train and test as example\n",
    "SAMPLE_FRAC = 0.2\n",
    "# 80% data for training and 20% data for validate\n",
    "TRAIN_FRAC = 0.8\n",
    "# load train data from train.csv\n",
    "train = pd.read_csv('./data/train.csv')\n",
    "train.reset_index(inplace=True)\n",
    "# change sentiment label form 'pos' and 'neg' to 1 and 0, which bert model knows\n",
    "train['sentiment'].replace({'pos':1,'neg':0},inplace=True)\n",
    "\n",
    "# train set\n",
    "train_sample = train.sample(frac=SAMPLE_FRAC,random_state=0)\n",
    "train_select = train_sample.sample(frac= TRAIN_FRAC,random_state=0)\n",
    "train_csv = train_select.values\n",
    "\n",
    "# validate set \n",
    "validate_select = train_sample.drop(index=train_select.index)\n",
    "validate_csv = validate_select.values\n",
    "\n",
    "\n",
    "# load test data , here should be validation set\n",
    "test = pd.read_csv('./data/test.csv')\n",
    "test.reset_index(inplace=True)\n",
    "test['sentiment'].replace({'pos':1,'neg':0},inplace=True)\n",
    "test_csv = test.sample(frac=SAMPLE_FRAC,random_state=0).values"
   ]
  },
  {
   "cell_type": "code",
   "execution_count": 42,
   "metadata": {
    "colab": {
     "base_uri": "https://localhost:8080/",
     "height": 196
    },
    "colab_type": "code",
    "executionInfo": {
     "elapsed": 1483,
     "status": "ok",
     "timestamp": 1582084972079,
     "user": {
      "displayName": "Yongze Yu",
      "photoUrl": "",
      "userId": "18328208656182681139"
     },
     "user_tz": 300
    },
    "id": "sNS5n-7i4JvL",
    "outputId": "e6db3ebf-699e-41ab-b29e-c2754ca1f8f5"
   },
   "outputs": [
    {
     "data": {
      "text/html": [
       "<div>\n",
       "<style scoped>\n",
       "    .dataframe tbody tr th:only-of-type {\n",
       "        vertical-align: middle;\n",
       "    }\n",
       "\n",
       "    .dataframe tbody tr th {\n",
       "        vertical-align: top;\n",
       "    }\n",
       "\n",
       "    .dataframe thead th {\n",
       "        text-align: right;\n",
       "    }\n",
       "</style>\n",
       "<table border=\"1\" class=\"dataframe\">\n",
       "  <thead>\n",
       "    <tr style=\"text-align: right;\">\n",
       "      <th></th>\n",
       "      <th>index</th>\n",
       "      <th>text</th>\n",
       "      <th>sentiment</th>\n",
       "    </tr>\n",
       "  </thead>\n",
       "  <tbody>\n",
       "    <tr>\n",
       "      <th>24995</th>\n",
       "      <td>24995</td>\n",
       "      <td>This film is fun, if your a person who likes a...</td>\n",
       "      <td>1</td>\n",
       "    </tr>\n",
       "    <tr>\n",
       "      <th>24996</th>\n",
       "      <td>24996</td>\n",
       "      <td>After seeing this film I feel like I know just...</td>\n",
       "      <td>1</td>\n",
       "    </tr>\n",
       "    <tr>\n",
       "      <th>24997</th>\n",
       "      <td>24997</td>\n",
       "      <td>first this deserves about 5 stars due to actin...</td>\n",
       "      <td>0</td>\n",
       "    </tr>\n",
       "    <tr>\n",
       "      <th>24998</th>\n",
       "      <td>24998</td>\n",
       "      <td>If you like films that ramble with little plot...</td>\n",
       "      <td>0</td>\n",
       "    </tr>\n",
       "    <tr>\n",
       "      <th>24999</th>\n",
       "      <td>24999</td>\n",
       "      <td>As interesting as a sheet of cardboard, this d...</td>\n",
       "      <td>0</td>\n",
       "    </tr>\n",
       "  </tbody>\n",
       "</table>\n",
       "</div>"
      ],
      "text/plain": [
       "       index                                               text  sentiment\n",
       "24995  24995  This film is fun, if your a person who likes a...          1\n",
       "24996  24996  After seeing this film I feel like I know just...          1\n",
       "24997  24997  first this deserves about 5 stars due to actin...          0\n",
       "24998  24998  If you like films that ramble with little plot...          0\n",
       "24999  24999  As interesting as a sheet of cardboard, this d...          0"
      ]
     },
     "execution_count": 42,
     "metadata": {
      "tags": []
     },
     "output_type": "execute_result"
    }
   ],
   "source": [
    "train.tail()"
   ]
  },
  {
   "cell_type": "markdown",
   "metadata": {
    "colab_type": "text",
    "id": "9BLdTff0gaEF"
   },
   "source": [
    "As you can see the *train_csv*,*validate_csv*, and *test_csv* has 3 columns, which are 'index','text',and 'sentiment'. They are important, becuase we need to pack those three parts into examples and feed to the models."
   ]
  },
  {
   "cell_type": "markdown",
   "metadata": {
    "colab_type": "text",
    "id": "PImmtwWRDSUw"
   },
   "source": [
    "### Build TFRecord"
   ]
  },
  {
   "cell_type": "markdown",
   "metadata": {
    "colab_type": "text",
    "id": "d81-HKTNyhLG"
   },
   "source": [
    "We have training data and validate data ready, and now we need convert those data into [TFRecord](https://www.tensorflow.org/tutorials/load_data/tfrecord) which tensorflow can read it into tf.data.Dataset object easily. In this [guide](https://www.tensorflow.org/guide/data), you can find how to transfer data into `tf.data.Dataset`."
   ]
  },
  {
   "cell_type": "code",
   "execution_count": 0,
   "metadata": {
    "colab": {},
    "colab_type": "code",
    "id": "NtBjcDJsDRa0"
   },
   "outputs": [],
   "source": [
    "import time\n",
    "def create_tf_example(features,label):\n",
    "    \"\"\"\n",
    "    Create tf example using features and label\n",
    "\n",
    "    Args:\n",
    "        features: list, feature list with format  ['idx','sentence']\n",
    "        label: string, \n",
    "\n",
    "    Return:\n",
    "        A binary-string of tf example.\n",
    "        All proto messages can be serialized to a binary-string using the .SerializeToString method.\n",
    "    \"\"\"\n",
    "    tf_example = tf.train.Example(features = tf.train.Features(feature = {\n",
    "        'idx': tf.train.Feature(int64_list=tf.train.Int64List(value=[features[0]])),\n",
    "        'sentence': tf.train.Feature(bytes_list=tf.train.BytesList(value=[features[1].encode('utf-8')])),\n",
    "        'label': tf.train.Feature(int64_list=tf.train.Int64List(value=[label]))\n",
    "    }))\n",
    "    return tf_example.SerializeToString()\n",
    "\n",
    "def convert_csv_to_tfrecord(csv, file_name):\n",
    "    \"\"\"\n",
    "    Convert the numpy arryes to tfrecord and write files\n",
    "\n",
    "    Args:\n",
    "        csv: numpy arrays, each row feed (features+label)\n",
    "        file_name: location TFRecord to be saved \n",
    "    \"\"\"\n",
    "    start_time = time.time()\n",
    "    writer = TFRecordWriter(file_name)\n",
    "    for idx,row in enumerate(csv):\n",
    "        # check the row retionality, raise error when missing value\n",
    "        try:\n",
    "            if row is None:\n",
    "                raise Exception('Row Missing')\n",
    "            if row[0] is None or row[1] is None or row[2] is None:\n",
    "                raise Exception('Value Missing')\n",
    "            if row[1].strip() is '':\n",
    "                raise Exception('Utterance is empty')\n",
    "            \n",
    "            features, label = row[:-1],row[-1]\n",
    "            example =  create_tf_example(features,label)\n",
    "            writer.write(example)\n",
    "\n",
    "        except Exception as inst:\n",
    "            print(type(inst))\n",
    "            print(inst.args)\n",
    "            print(inst)\n",
    "    writer.close()\n",
    "    print(f\"{file_name}: --- {(time.time() - start_time)} seconds ---\")"
   ]
  },
  {
   "cell_type": "markdown",
   "metadata": {
    "colab_type": "text",
    "id": "yh5TqvvAJ0_L"
   },
   "source": [
    "convert csv(numpy files) to tfrecord using `convert_csv_to_tfrecord`"
   ]
  },
  {
   "cell_type": "code",
   "execution_count": 137,
   "metadata": {
    "colab": {
     "base_uri": "https://localhost:8080/",
     "height": 67
    },
    "colab_type": "code",
    "executionInfo": {
     "elapsed": 3369,
     "status": "ok",
     "timestamp": 1582081386006,
     "user": {
      "displayName": "Yongze Yu",
      "photoUrl": "",
      "userId": "18328208656182681139"
     },
     "user_tz": 300
    },
    "id": "ep0FZC4wAPvc",
    "outputId": "b8b32563-4785-47e3-8652-ec7046565a8d"
   },
   "outputs": [
    {
     "name": "stdout",
     "output_type": "stream",
     "text": [
      "./data/movie_train.tfrecord: --- 0.16509032249450684 seconds ---\n",
      "data/movie_validate.tfrecord: --- 0.04649686813354492 seconds ---\n",
      "data/movie_test.tfrecord: --- 0.19834470748901367 seconds ---\n"
     ]
    }
   ],
   "source": [
    "convert_csv_to_tfrecord(train_csv, \"./data/movie_train.tfrecord\")\n",
    "convert_csv_to_tfrecord(validate_csv, \"./data/movie_validate.tfrecord\")\n",
    "convert_csv_to_tfrecord(test_csv, \"./data/movie_test.tfrecord\")"
   ]
  },
  {
   "cell_type": "markdown",
   "metadata": {
    "colab_type": "text",
    "id": "XlJkLhfp1Z9b"
   },
   "source": [
    "now we will generate a json file to save number of training example to determine the tranin steps in the later process"
   ]
  },
  {
   "cell_type": "code",
   "execution_count": 0,
   "metadata": {
    "colab": {},
    "colab_type": "code",
    "id": "M8tAYOLt0nHi"
   },
   "outputs": [],
   "source": [
    "import json\n",
    "# generate exmaple number , save for use in the future \n",
    "def generate_json_info(local_file_name,df_train=[],df_val=[],df_test=[]):\n",
    "    info = {\"train_length\": len(df_train), \"validation_length\": len(df_val),\n",
    "            \"test_length\": len(df_test)}\n",
    "\n",
    "    with open(local_file_name, 'w') as outfile:\n",
    "        json.dump(info, outfile)\n",
    "\n",
    "generate_json_info('./data/info.json',train_csv,validate_csv,test_csv)"
   ]
  },
  {
   "cell_type": "markdown",
   "metadata": {
    "colab_type": "text",
    "id": "W64yQeCyl8sC"
   },
   "source": [
    "#### Confirm that TFRecord has encoded correctly"
   ]
  },
  {
   "cell_type": "code",
   "execution_count": 0,
   "metadata": {
    "colab": {},
    "colab_type": "code",
    "id": "SEQnGaKjkSoW"
   },
   "outputs": [],
   "source": [
    "tr_ds = tf.data.TFRecordDataset(\"data/movie_train.tfrecord\")"
   ]
  },
  {
   "cell_type": "markdown",
   "metadata": {
    "colab_type": "text",
    "id": "77jQ1Oj5vIgn"
   },
   "source": [
    "About how to write and read tensorflow TFRecord, you can read documentation [here](https://www.tensorflow.org/tutorials/load_data/tfrecord)."
   ]
  },
  {
   "cell_type": "code",
   "execution_count": 0,
   "metadata": {
    "colab": {},
    "colab_type": "code",
    "id": "jG13LEggmC94"
   },
   "outputs": [],
   "source": [
    "# Create a description of the features.\n",
    "feature_spec = {\n",
    "    'idx': tf.io.FixedLenFeature([], tf.int64),\n",
    "    'sentence': tf.io.FixedLenFeature([], tf.string),\n",
    "    'label': tf.io.FixedLenFeature([], tf.int64)\n",
    "}\n",
    "def parse_example(example_proto):\n",
    "  # Parse the input tf.Example proto using the dictionary above.\n",
    "    return tf.io.parse_single_example(example_proto, feature_spec)\n",
    "tr_parse_ds = tr_ds.map(parse_example)\n",
    "dataset_iterator = iter(tr_parse_ds)"
   ]
  },
  {
   "cell_type": "code",
   "execution_count": 141,
   "metadata": {
    "colab": {
     "base_uri": "https://localhost:8080/",
     "height": 87
    },
    "colab_type": "code",
    "executionInfo": {
     "elapsed": 1009,
     "status": "ok",
     "timestamp": 1582081388409,
     "user": {
      "displayName": "Yongze Yu",
      "photoUrl": "",
      "userId": "18328208656182681139"
     },
     "user_tz": 300
    },
    "id": "SUGB587lmxOG",
    "outputId": "48817fe0-849b-4617-b6ed-202d15f1e2cc"
   },
   "outputs": [
    {
     "data": {
      "text/plain": [
       "{'idx': <tf.Tensor: id=259301, shape=(), dtype=int64, numpy=8383>,\n",
       " 'label': <tf.Tensor: id=259302, shape=(), dtype=int64, numpy=1>,\n",
       " 'sentence': <tf.Tensor: id=259303, shape=(), dtype=string, numpy=b\"This movie is difficult to watch in our fast-paced culture of the 21st century, but it is worth it for the messages that it conveys, chiefly the consequences and ramifications of technology upon society, specifically when that technology is used for warfare.<br /><br />This movie presents a full circle cycle of dehumanization and rehumanization as influenced by the advent of technology and the subsequent deconstruction of civilization and therefore serves as a cautionary tale against the misuse of technology, but as the circle completes itself, familiar themes and sentiments pop up again to present self-serving rather than self-destructive ways that humanity may utilize technology.<br /><br />Brilliant for it's time, the picture and sound quality may pose a challenge for some, but as a landmark in the history, development, and evolution of the sci-fi genre, it is a must. In the end, free will and free choice are once again posed to humanity as a means for controlling our own destiny rather than having it served to us by someone else or indeed, the state of<br /><br />society itself, as shaped by world events.<br /><br />Those who are downtrodden by what life throws their way sometimes tend to remain so, but yet there is always a glimmer of hope and continuity that remains, as this film posits.<br /><br />As far as qualifying as sci-fi, one of the biggest common demoninators of that genre is it's speculative nature. It asks us the questions, what if these events happened this way, and what effect would it have on society or the individuals within it? How would we react?<br /><br />As far as influence, this film projects those speculative sciences that make sci-fi as unique as it is and keeps us asking those important questions.\">}"
      ]
     },
     "execution_count": 141,
     "metadata": {
      "tags": []
     },
     "output_type": "execute_result"
    }
   ],
   "source": [
    "dataset_iterator.get_next()"
   ]
  },
  {
   "cell_type": "markdown",
   "metadata": {
    "colab_type": "text",
    "id": "nr2PHpPpnTFV"
   },
   "source": [
    "## BERT Sentiment Classification in TensorFlow 2.0"
   ]
  },
  {
   "cell_type": "code",
   "execution_count": 0,
   "metadata": {
    "colab": {},
    "colab_type": "code",
    "id": "M71sTxJnnYUF"
   },
   "outputs": [],
   "source": [
    "import tensorflow as tf\n",
    "from transformers import *\n",
    "from transformers import BertTokenizer, TFBertForSequenceClassification, glue_convert_examples_to_features\n",
    "from transformers.configuration_bert import BertConfig"
   ]
  },
  {
   "cell_type": "markdown",
   "metadata": {
    "colab_type": "text",
    "id": "KQVfQl89jA_o"
   },
   "source": [
    "Load the TFRecord"
   ]
  },
  {
   "cell_type": "code",
   "execution_count": 0,
   "metadata": {
    "colab": {},
    "colab_type": "code",
    "id": "I_ECdyjqneLw"
   },
   "outputs": [],
   "source": [
    "tr_ds = tf.data.TFRecordDataset(\"data/movie_train.tfrecord\")\n",
    "val_ds = tf.data.TFRecordDataset(\"data/movie_validate.tfrecord\")\n",
    "test_ds = tf.data.TFRecordDataset(\"data/movie_test.tfrecord\")\n"
   ]
  },
  {
   "cell_type": "code",
   "execution_count": 0,
   "metadata": {
    "colab": {},
    "colab_type": "code",
    "id": "Hl7slqMfni1r"
   },
   "outputs": [],
   "source": [
    "# Create a description of the features.\n",
    "feature_spec = {\n",
    "    'idx': tf.io.FixedLenFeature([], tf.int64),\n",
    "    'sentence': tf.io.FixedLenFeature([], tf.string),\n",
    "    'label': tf.io.FixedLenFeature([], tf.int64)\n",
    "}\n",
    "def parse_example(example_proto):\n",
    "  # Parse the input tf.Example proto using the dictionary above.\n",
    "    return tf.io.parse_single_example(example_proto, feature_spec)\n",
    "\n",
    "# convert the encoded string tensor into the separate tensors that will feed into the model\n",
    "tr_parse_ds = tr_ds.map(parse_example)\n",
    "val_parse_ds = val_ds.map(parse_example)\n",
    "test_parse_ds =  test_ds.map(parse_example)"
   ]
  },
  {
   "cell_type": "markdown",
   "metadata": {
    "colab_type": "text",
    "id": "PByHYyEqoXJ0"
   },
   "source": [
    "One approach to cleaning up a pipeline is to map a function to the dataset. In this way, the function gets applied to each example. The following code uses this approach to clean up the sentence tensor.\n",
    "\n"
   ]
  },
  {
   "cell_type": "code",
   "execution_count": 0,
   "metadata": {
    "colab": {},
    "colab_type": "code",
    "id": "cecBCBXunptj"
   },
   "outputs": [],
   "source": [
    "def clean_string(features):\n",
    "    revised_sentence = tf.strings.regex_replace(features['sentence'], \"\\.\\.\\.\", \"\", replace_global=True)\n",
    "    revised_sentence = tf.strings.regex_replace(revised_sentence, \"\\\\'\", \"'\", replace_global=True)\n",
    "    revised_sentence = tf.strings.regex_replace(revised_sentence, \"\\\\n\", \"\", replace_global=True)\n",
    "    features['sentence'] = revised_sentence\n",
    "    return features"
   ]
  },
  {
   "cell_type": "code",
   "execution_count": 0,
   "metadata": {
    "colab": {},
    "colab_type": "code",
    "id": "gFuEjr4VobfT"
   },
   "outputs": [],
   "source": [
    "tr_clean_ds = tr_parse_ds.map(lambda features: clean_string(features))\n",
    "val_clean_ds = val_parse_ds.map(lambda features: clean_string(features))\n",
    "test_clean_ds =  test_parse_ds.map(lambda features: clean_string(features))"
   ]
  },
  {
   "cell_type": "markdown",
   "metadata": {
    "colab_type": "text",
    "id": "xbb2UKGhpGoB"
   },
   "source": [
    "### Train"
   ]
  },
  {
   "cell_type": "markdown",
   "metadata": {
    "colab_type": "text",
    "id": "k4sRpUggj8om"
   },
   "source": [
    "Before training, we need to set up some paramerter ahead. `BATCH_SIZE`=8 here, it is because in google colab, it will run into a memory issue with bert model at max_length = 512. Usually, the batch_size can be set as 32. USE_XLA and USE_AMP are two methods to help the train speed, in this notebook, we will not discuss that. Therefore, we set them to False."
   ]
  },
  {
   "cell_type": "code",
   "execution_count": 0,
   "metadata": {
    "colab": {},
    "colab_type": "code",
    "id": "IRSJMRvCo19j"
   },
   "outputs": [],
   "source": [
    "BATCH_SIZE = 8\n",
    "\n",
    "EVAL_BATCH_SIZE = BATCH_SIZE * 2\n",
    "\n",
    "# XLA is the optimizing compiler for machine learning\n",
    "# It can potentially increase speed by 15% with no source code changes\n",
    "USE_XLA = False\n",
    "\n",
    "# mixed precision results on https://github.com/huggingface/transformers/tree/master/examples\n",
    "# Mixed precision can help to speed up training time\n",
    "USE_AMP = False"
   ]
  },
  {
   "cell_type": "code",
   "execution_count": 0,
   "metadata": {
    "colab": {},
    "colab_type": "code",
    "id": "AA1mXiWvpSyC"
   },
   "outputs": [],
   "source": [
    "tf.config.optimizer.set_jit(USE_XLA)\n",
    "tf.config.optimizer.set_experimental_options({\"auto_mixed_precision\": USE_AMP})"
   ]
  },
  {
   "cell_type": "code",
   "execution_count": 13,
   "metadata": {
    "colab": {
     "base_uri": "https://localhost:8080/",
     "height": 33
    },
    "colab_type": "code",
    "executionInfo": {
     "elapsed": 1407,
     "status": "ok",
     "timestamp": 1582084078346,
     "user": {
      "displayName": "Yongze Yu",
      "photoUrl": "",
      "userId": "18328208656182681139"
     },
     "user_tz": 300
    },
    "id": "evLpW1v3pIAI",
    "outputId": "b8de9de2-ad68-4d84-a44f-037c96d05d43"
   },
   "outputs": [
    {
     "data": {
      "text/plain": [
       "(4000, 1000, 5000)"
      ]
     },
     "execution_count": 13,
     "metadata": {
      "tags": []
     },
     "output_type": "execute_result"
    }
   ],
   "source": [
    "# Steps is determined by the number of examples\n",
    "import json\n",
    "with open('data/info.json') as json_file:\n",
    "    data_info = json.load(json_file)\n",
    "    \n",
    "train_examples = data_info['train_length']\n",
    "valid_examples = data_info['validation_length']\n",
    "test_examples = data_info['test_length']\n",
    "\n",
    "train_examples, valid_examples, test_examples"
   ]
  },
  {
   "cell_type": "markdown",
   "metadata": {
    "colab_type": "text",
    "id": "ag-jgl6fpd5R"
   },
   "source": [
    "Now that we have a pipeline setup, we need to start the process of converting words into numbers so that they can be processed by the BERT transfer learning backbone. This process is commonly called Tokenization, and Huggingface includes a tokenizer that helps with this process.\n",
    "\n",
    "The tokenizers are based on the underlying research code. For example, the following are different BERT models that can be utilized within the BERT framework:\n",
    "\n",
    "* ``bert-base-uncased``: 12-layer, 768-hidden, 12-heads, 110M parameters\n",
    "* ``bert-large-uncased``: 24-layer, 1024-hidden, 16-heads, 340M parameters\n",
    "* ``bert-base-cased``: 12-layer, 768-hidden, 12-heads , 110M parameters\n",
    "* ``bert-large-cased``: 24-layer, 1024-hidden, 16-heads, 340M parameters\n",
    "\n",
    "As seen above, the different numbers have different levels of complexity and are associated either with uncapitalized text (uncased) or text that has capitalization. I selected the bert-base-cased underlying model because the movie text have capitalization. I also selected it because in general models that are less complex tend to run faster than models which are more complex."
   ]
  },
  {
   "cell_type": "markdown",
   "metadata": {
    "colab_type": "text",
    "id": "baQ8k0-hpxsD"
   },
   "source": [
    "The Transformers framework can use a configuration dictionary in order to set up the hyperparameters for the model. In this case, I explictly use the config to make sure that the model is looking at num_labels=2. If we had been going through an example with three categories ('Positive', 'Negative', and 'Neutral') as opposed to just two cases ('Positive' and 'Negative') then we would have wanted to use num_labels=3 instead. [Ref](https://github.com/huggingface/transformers/blob/master/examples/run_tf_glue.py)"
   ]
  },
  {
   "cell_type": "code",
   "execution_count": 0,
   "metadata": {
    "colab": {},
    "colab_type": "code",
    "id": "MD9DEQW5p66N"
   },
   "outputs": [],
   "source": [
    "# Load tokenizer and model from pretrained model/vocabulary. Specify the number of labels to classify (2+: classification, 1: regression)\n",
    "num_labels = 2 \n",
    "config = BertConfig.from_pretrained(\"bert-base-cased\", num_labels=num_labels)\n",
    "tokenizer = BertTokenizer.from_pretrained(\"bert-base-cased\")\n",
    "model = TFBertForSequenceClassification.from_pretrained('bert-base-cased', config=config)"
   ]
  },
  {
   "cell_type": "code",
   "execution_count": 0,
   "metadata": {
    "colab": {},
    "colab_type": "code",
    "id": "km300QbipoNu"
   },
   "outputs": [],
   "source": [
    "# Make use of the following config parameters\n",
    "\n",
    "# {\n",
    "#   \"architectures\": [\n",
    "#     \"BertForMaskedLM\"\n",
    "#   ],\n",
    "#   \"attention_probs_dropout_prob\": 0.1,\n",
    "#   \"hidden_act\": \"gelu\",\n",
    "#   \"hidden_dropout_prob\": 0.1,\n",
    "#   \"hidden_size\": 768,\n",
    "#   \"initializer_range\": 0.02,\n",
    "#   \"intermediate_size\": 3072,\n",
    "#   \"max_position_embeddings\": 512,\n",
    "#   \"num_attention_heads\": 12,\n",
    "#   \"num_hidden_layers\": 12,\n",
    "#   \"type_vocab_size\": 2,\n",
    "#   \"vocab_size\": 28996\n",
    "# }"
   ]
  },
  {
   "cell_type": "markdown",
   "metadata": {
    "colab_type": "text",
    "id": "my72gMKaqkMG"
   },
   "source": [
    "Now that we have a tokenizer and the model with the right configurations, we need to take our parsed tensors (the tr_parse_ds or train parsed dataset) and feed them into the Huggingface framework. To do this, we are going to make a slight modification to the glue_convert_examples_to_features code found in the HuggingFace transformers repo. Here we are going to use the sst-2 task (the Stanford Sentiment Treebank binary classification task) because this task also works with binary classification. \n",
    "\n",
    "Notes:\n",
    "\n",
    "Huggingface uses the similar strategy of taking the TFExamples and using a dataset in order to convert the \"sentence\" and \"labels\" into inputs that are needed by BERT (inputs such as 'input_ids', 'attention_mask', and 'token_type_ids'). As disscussed earlier in the workbook, this transformation process makes it quick to test out the conversion on a couple of data points and to move onto the next step without waiting for the full conversion to complete."
   ]
  },
  {
   "cell_type": "code",
   "execution_count": 69,
   "metadata": {
    "colab": {
     "base_uri": "https://localhost:8080/",
     "height": 33
    },
    "colab_type": "code",
    "executionInfo": {
     "elapsed": 16404,
     "status": "ok",
     "timestamp": 1582085683987,
     "user": {
      "displayName": "Yongze Yu",
      "photoUrl": "",
      "userId": "18328208656182681139"
     },
     "user_tz": 300
    },
    "id": "Sjf-yVZhqd1r",
    "outputId": "64f19ad6-d89f-43c3-8388-96c3487ac853"
   },
   "outputs": [
    {
     "name": "stdout",
     "output_type": "stream",
     "text": [
      "---14.97620701789856 seconds---\n"
     ]
    }
   ],
   "source": [
    "import time\n",
    "start_time = time.time()\n",
    "train_dataset = glue_convert_examples_to_features(examples=tr_clean_ds, tokenizer=tokenizer\n",
    "                                                  , max_length=512, task='sst-2',\n",
    "                                                  label_list=['0','1']\n",
    "                                                  )\n",
    "print(f\"---{time.time()-start_time} seconds---\")"
   ]
  },
  {
   "cell_type": "code",
   "execution_count": 70,
   "metadata": {
    "colab": {
     "base_uri": "https://localhost:8080/",
     "height": 33
    },
    "colab_type": "code",
    "executionInfo": {
     "elapsed": 18330,
     "status": "ok",
     "timestamp": 1582085687704,
     "user": {
      "displayName": "Yongze Yu",
      "photoUrl": "",
      "userId": "18328208656182681139"
     },
     "user_tz": 300
    },
    "id": "dCNwQ8DLrGqZ",
    "outputId": "f21048aa-53eb-40b9-e65f-e2ef2f143b84"
   },
   "outputs": [
    {
     "name": "stdout",
     "output_type": "stream",
     "text": [
      "---3.7171196937561035 seconds---\n"
     ]
    }
   ],
   "source": [
    "import time\n",
    "start_time = time.time()\n",
    "valid_dataset = glue_convert_examples_to_features(examples=val_clean_ds, tokenizer=tokenizer\n",
    "                                                  , max_length=512, task='sst-2'\n",
    "                                                  , label_list =['0', '1'])\n",
    "print(f\"---{time.time()-start_time} seconds---\")"
   ]
  },
  {
   "cell_type": "code",
   "execution_count": 0,
   "metadata": {
    "colab": {},
    "colab_type": "code",
    "id": "0G7xLA-1rIah"
   },
   "outputs": [],
   "source": [
    "train_dataset = train_dataset.shuffle(train_examples).batch(BATCH_SIZE).repeat(-1)\n",
    "\n",
    "valid_dataset = valid_dataset.batch(EVAL_BATCH_SIZE)"
   ]
  },
  {
   "cell_type": "markdown",
   "metadata": {
    "colab_type": "text",
    "id": "hn3hje_frru3"
   },
   "source": [
    "In this next section, we need to configure the loss function, the optimizer, and any additional metrics that we want to capture.\n",
    "\n",
    "Loss:\n",
    "\n",
    "This is the objective that the model is trying to minimize. In our example, the HuggingFace framework compares this against the distribution of predicted classes. Said differently, we are trying to compare how similar the actual distribution is to the predicted distribution, and this is captured in the loss function called SparseCategoricalCrossentropy .\n",
    "\n",
    "A good discussion on cross entropy can be found at The Gradient\n",
    "\n",
    "Optimizer:\n",
    "\n",
    "Deep learning is the process of minimizing a loss function. The process that determines what steps to try out in each iteration is commonly referred to as the optimizer. For this exercise, I used the Adam optimization algorithm which tends to work well in a variety of situations.\n",
    "\n",
    "Metric:\n",
    "\n",
    "As a basic metric, we should look at the number of times that the actual class is identical to what is predicted.\n",
    "\n",
    "Unfortunately ,the model currently generates unscaled outputs for each example (an unscaled output for the negative class and another unscaled output for the positive class). Said differently, the model generates outputs before they are converted into probabilities (the conversion happens with a softmax function). Because of all of this, the appropriate metric to use would be SparseCategoricalAccuracy."
   ]
  },
  {
   "cell_type": "code",
   "execution_count": 0,
   "metadata": {
    "colab": {},
    "colab_type": "code",
    "id": "JzQc45bHrevB"
   },
   "outputs": [],
   "source": [
    "opt = tf.keras.optimizers.Adam(learning_rate=3e-5, epsilon=1e-08)\n",
    "\n",
    "if USE_AMP:\n",
    "    # loss scaling is currently required when using mixed precision\n",
    "    opt = tf.keras.mixed_precision.experimental.LossScaleOptimizer(opt, 'dynamic')\n",
    "\n",
    "loss = tf.keras.losses.SparseCategoricalCrossentropy(from_logits=True)\n",
    "metric = tf.keras.metrics.SparseCategoricalAccuracy('accuracy')\n",
    "model.compile(optimizer=opt, loss=loss, metrics=[metric])"
   ]
  },
  {
   "cell_type": "markdown",
   "metadata": {
    "colab_type": "text",
    "id": "pDGeR6JlsReW"
   },
   "source": [
    "The TensorFlow documentation states the following:\n",
    "\n",
    "**If x is a tf.data dataset, and 'steps_per_epoch' is None, the epoch will run until the input dataset is exhausted.**\n",
    "\n",
    "Because these datasets can be a precursor to training on TFRecords of significant size, it is best practice to specificially state the number of steps that will be processed per epoch in the train and validation stage."
   ]
  },
  {
   "cell_type": "code",
   "execution_count": 0,
   "metadata": {
    "colab": {},
    "colab_type": "code",
    "id": "7wp8Hi-QsM4o"
   },
   "outputs": [],
   "source": [
    "train_steps = train_examples//BATCH_SIZE\n",
    "valid_steps = valid_examples//EVAL_BATCH_SIZE"
   ]
  },
  {
   "cell_type": "markdown",
   "metadata": {
    "colab_type": "text",
    "id": "Cu08x8cJsnnC"
   },
   "source": [
    "GPUs run up to 27x faster that CPUs for model training. Because of this, it is critical that the following preconditions are in place:\n",
    "\n",
    "You are using the version of Tensflow for GPUs\n",
    "The code has access to a GPU\n",
    "To confirm the preconditions, I run the following code to detect GPUs and to see the physical devices that are available."
   ]
  },
  {
   "cell_type": "code",
   "execution_count": 76,
   "metadata": {
    "colab": {
     "base_uri": "https://localhost:8080/",
     "height": 100
    },
    "colab_type": "code",
    "executionInfo": {
     "elapsed": 877,
     "status": "ok",
     "timestamp": 1582085831303,
     "user": {
      "displayName": "Yongze Yu",
      "photoUrl": "",
      "userId": "18328208656182681139"
     },
     "user_tz": 300
    },
    "id": "j0VMK32ish7u",
    "outputId": "96f1ca83-b179-4c40-c238-5e07ced5f611"
   },
   "outputs": [
    {
     "name": "stdout",
     "output_type": "stream",
     "text": [
      "Num GPUs Available:  1\n"
     ]
    },
    {
     "data": {
      "text/plain": [
       "[PhysicalDevice(name='/physical_device:CPU:0', device_type='CPU'),\n",
       " PhysicalDevice(name='/physical_device:XLA_CPU:0', device_type='XLA_CPU'),\n",
       " PhysicalDevice(name='/physical_device:XLA_GPU:0', device_type='XLA_GPU'),\n",
       " PhysicalDevice(name='/physical_device:GPU:0', device_type='GPU')]"
      ]
     },
     "execution_count": 76,
     "metadata": {
      "tags": []
     },
     "output_type": "execute_result"
    }
   ],
   "source": [
    "# GPU USAGE\n",
    "print(\"Num GPUs Available: \", len(tf.config.experimental.list_physical_devices('GPU')))\n",
    "tf.config.experimental.list_physical_devices()"
   ]
  },
  {
   "cell_type": "code",
   "execution_count": 77,
   "metadata": {
    "colab": {
     "base_uri": "https://localhost:8080/",
     "height": 251
    },
    "colab_type": "code",
    "executionInfo": {
     "elapsed": 1790,
     "status": "ok",
     "timestamp": 1582085833726,
     "user": {
      "displayName": "Yongze Yu",
      "photoUrl": "",
      "userId": "18328208656182681139"
     },
     "user_tz": 300
    },
    "id": "Iq8Vk5lksw3S",
    "outputId": "7e43e621-5286-4ade-a9e8-a9e00d950520"
   },
   "outputs": [
    {
     "name": "stdout",
     "output_type": "stream",
     "text": [
      "Model: \"tf_bert_for_sequence_classification_1\"\n",
      "_________________________________________________________________\n",
      "Layer (type)                 Output Shape              Param #   \n",
      "=================================================================\n",
      "bert (TFBertMainLayer)       multiple                  108310272 \n",
      "_________________________________________________________________\n",
      "dropout_75 (Dropout)         multiple                  0         \n",
      "_________________________________________________________________\n",
      "classifier (Dense)           multiple                  1538      \n",
      "=================================================================\n",
      "Total params: 108,311,810\n",
      "Trainable params: 108,311,810\n",
      "Non-trainable params: 0\n",
      "_________________________________________________________________\n"
     ]
    }
   ],
   "source": [
    "model.summary()"
   ]
  },
  {
   "cell_type": "code",
   "execution_count": 78,
   "metadata": {
    "colab": {
     "base_uri": "https://localhost:8080/",
     "height": 154
    },
    "colab_type": "code",
    "executionInfo": {
     "elapsed": 1651914,
     "status": "ok",
     "timestamp": 1582087486998,
     "user": {
      "displayName": "Yongze Yu",
      "photoUrl": "",
      "userId": "18328208656182681139"
     },
     "user_tz": 300
    },
    "id": "sUS-PgMctD1L",
    "outputId": "725b85b4-f37f-4995-8849-c5a44391f576"
   },
   "outputs": [
    {
     "name": "stdout",
     "output_type": "stream",
     "text": [
      "Train for 500 steps, validate for 62 steps\n",
      "Epoch 1/3\n",
      "500/500 [==============================] - 561s 1s/step - loss: 0.4208 - accuracy: 0.7883 - val_loss: 0.2677 - val_accuracy: 0.8942\n",
      "Epoch 2/3\n",
      "500/500 [==============================] - 543s 1s/step - loss: 0.2023 - accuracy: 0.9268 - val_loss: 0.2334 - val_accuracy: 0.9133\n",
      "Epoch 3/3\n",
      "500/500 [==============================] - 542s 1s/step - loss: 0.1015 - accuracy: 0.9672 - val_loss: 0.2833 - val_accuracy: 0.9103\n"
     ]
    }
   ],
   "source": [
    "history = model.fit(train_dataset, epochs=3, steps_per_epoch=train_steps,\n",
    "                    validation_data=valid_dataset, validation_steps=valid_steps)"
   ]
  },
  {
   "cell_type": "markdown",
   "metadata": {
    "colab_type": "text",
    "id": "BHw-bYXqwkJD"
   },
   "source": [
    "Train for 500 steps, validate for 62 steps\n",
    "Epoch 1/3\n",
    "500/500 [==============================] - 561s 1s/step - loss: 0.4208 - accuracy: 0.7883 - val_loss: 0.2677 - val_accuracy: 0.8942\n",
    "Epoch 2/3\n",
    "500/500 [==============================] - 543s 1s/step - loss: 0.2023 - accuracy: 0.9268 - val_loss: 0.2334 - val_accuracy: 0.9133\n",
    "Epoch 3/3\n",
    "500/500 [==============================] - 542s 1s/step - loss: 0.1015 - accuracy: 0.9672 - val_loss: 0.2833 - val_accuracy: 0.9103"
   ]
  },
  {
   "cell_type": "markdown",
   "metadata": {
    "colab_type": "text",
    "id": "BSdH8kBZoqOZ"
   },
   "source": [
    "It tooks about 30mins to train 3 epochs on this setting. And we can acctich 0.91 accuracy on mini dev set."
   ]
  },
  {
   "cell_type": "markdown",
   "metadata": {
    "colab_type": "text",
    "id": "94f_n07BxMI7"
   },
   "source": [
    "### Evaluate the results of the model"
   ]
  },
  {
   "cell_type": "code",
   "execution_count": 79,
   "metadata": {
    "colab": {
     "base_uri": "https://localhost:8080/",
     "height": 33
    },
    "colab_type": "code",
    "executionInfo": {
     "elapsed": 1594644,
     "status": "ok",
     "timestamp": 1582087506070,
     "user": {
      "displayName": "Yongze Yu",
      "photoUrl": "",
      "userId": "18328208656182681139"
     },
     "user_tz": 300
    },
    "id": "-szQ86ZdtSoc",
    "outputId": "fd3cc87d-aadb-47ae-ea54-9c57478e556e"
   },
   "outputs": [
    {
     "name": "stdout",
     "output_type": "stream",
     "text": [
      "---19.080271005630493 seconds---\n"
     ]
    }
   ],
   "source": [
    "import time\n",
    "start_time = time.time()\n",
    "test_dataset = glue_convert_examples_to_features(examples=test_clean_ds, tokenizer=tokenizer\n",
    "                                                  , max_length=512, task='sst-2'\n",
    "                                                  , label_list =['0', '1'])\n",
    "print(f\"---{time.time()-start_time} seconds---\")"
   ]
  },
  {
   "cell_type": "code",
   "execution_count": 0,
   "metadata": {
    "colab": {},
    "colab_type": "code",
    "id": "0O5MKxRQxPEX"
   },
   "outputs": [],
   "source": [
    "test_dataset = test_dataset.batch(EVAL_BATCH_SIZE)\n"
   ]
  },
  {
   "cell_type": "code",
   "execution_count": 81,
   "metadata": {
    "colab": {
     "base_uri": "https://localhost:8080/",
     "height": 50
    },
    "colab_type": "code",
    "executionInfo": {
     "elapsed": 1635225,
     "status": "ok",
     "timestamp": 1582087547634,
     "user": {
      "displayName": "Yongze Yu",
      "photoUrl": "",
      "userId": "18328208656182681139"
     },
     "user_tz": 300
    },
    "id": "1s9TLEE5xuRG",
    "outputId": "bda3d215-3b81-4ad8-8a6f-98a1b40b0e40"
   },
   "outputs": [
    {
     "name": "stdout",
     "output_type": "stream",
     "text": [
      "63/63 [==============================] - 42s 667ms/step - loss: 0.2860 - accuracy: 0.9090\n"
     ]
    },
    {
     "data": {
      "text/plain": [
       "[0.2859640326868329, 0.909]"
      ]
     },
     "execution_count": 81,
     "metadata": {
      "tags": []
     },
     "output_type": "execute_result"
    }
   ],
   "source": [
    "model.evaluate(test_dataset)"
   ]
  },
  {
   "cell_type": "markdown",
   "metadata": {
    "colab_type": "text",
    "id": "BwVWQHrtWFTK"
   },
   "source": [
    "63/63 [==============================] - 42s 667ms/step - loss: 0.2860 - accuracy: 0.9090\n",
    "[0.2859640326868329, 0.909]"
   ]
  },
  {
   "cell_type": "markdown",
   "metadata": {
    "colab_type": "text",
    "id": "f6zjMISBpGCl"
   },
   "source": [
    "As you can see, with only using the small sample size, we can acheive 0.909 accurarcy on test set. It was reported 0.935 in orginal BERT paper in this base model.  "
   ]
  },
  {
   "cell_type": "markdown",
   "metadata": {
    "colab_type": "text",
    "id": "tRZWGTOEyYE-"
   },
   "source": [
    "### Create a Confusion Matrix"
   ]
  },
  {
   "cell_type": "markdown",
   "metadata": {
    "colab_type": "text",
    "id": "n4lIf-Yuydo9"
   },
   "source": [
    "We can also visualize the evaluation in terms of how many true positives, true negatives, false positives, and false negatives occur. This visualization is commonly called a Confusion Matrix.\n",
    "\n",
    "Creation of the confusion matrix involves the following steps:\n",
    "\n",
    "1) Take the unnormalized outputs from the model (the logits) and compress them into probabilities (that by definition are between 0 and 1). The function that converts logits into probabilities is the softmax function.\n",
    "\n",
    "2) Once you have probabilities for each prediction, identify predicted emotion ('Negative' or 'Positive') by selecting the probability with the largest value. This is accomplished with the argmax function."
   ]
  },
  {
   "cell_type": "code",
   "execution_count": 0,
   "metadata": {
    "colab": {},
    "colab_type": "code",
    "id": "dF-v3NBZyXOI"
   },
   "outputs": [],
   "source": [
    "y_pred = tf.nn.softmax(model.predict(test_dataset))"
   ]
  },
  {
   "cell_type": "code",
   "execution_count": 0,
   "metadata": {
    "colab": {},
    "colab_type": "code",
    "id": "QqTwsnZbxvns"
   },
   "outputs": [],
   "source": [
    "y_pred_argmax = tf.math.argmax(y_pred, axis=1)"
   ]
  },
  {
   "cell_type": "code",
   "execution_count": 0,
   "metadata": {
    "colab": {},
    "colab_type": "code",
    "id": "_r4smPUZymS5"
   },
   "outputs": [],
   "source": [
    "y_true = tf.Variable([], dtype=tf.int64)\n",
    "\n",
    "for features, label in test_dataset.take(-1):\n",
    "    y_true = tf.concat([y_true, label], 0)"
   ]
  },
  {
   "cell_type": "code",
   "execution_count": 85,
   "metadata": {
    "colab": {
     "base_uri": "https://localhost:8080/",
     "height": 311
    },
    "colab_type": "code",
    "executionInfo": {
     "elapsed": 98399,
     "status": "ok",
     "timestamp": 1582087646075,
     "user": {
      "displayName": "Yongze Yu",
      "photoUrl": "",
      "userId": "18328208656182681139"
     },
     "user_tz": 300
    },
    "id": "ovgupnBby3O8",
    "outputId": "0ce0b28f-15a3-4c9b-ec85-3e7ac6d34009"
   },
   "outputs": [
    {
     "data": {
      "image/png": "[encoded data removed]",
      "text/plain": [
       "<Figure size 432x288 with 2 Axes>"
      ]
     },
     "metadata": {
      "tags": []
     },
     "output_type": "display_data"
    }
   ],
   "source": [
    "%matplotlib inline  \n",
    "import seaborn as sns\n",
    "import matplotlib.pyplot as plt\n",
    "import pandas as pd\n",
    "from sklearn.metrics import classification_report\n",
    "\n",
    "def visualize_confusion_matrix(y_pred_argmax, y_true):\n",
    "    \"\"\"\n",
    "\n",
    "    :param y_pred_arg: This is an array with values that are 0 or 1\n",
    "    :param y_true: This is an array with values that are 0 or 1\n",
    "    :return:\n",
    "    \"\"\"\n",
    "\n",
    "    cm = tf.math.confusion_matrix(y_true, y_pred_argmax).numpy()\n",
    "    con_mat_df = pd.DataFrame(cm)\n",
    "    \n",
    "    print(classification_report(y_pred_argmax, y_true))\n",
    "\n",
    "    sns.heatmap(con_mat_df, annot=True, fmt='g', cmap=plt.cm.Blues)\n",
    "    plt.tight_layout()\n",
    "    plt.ylabel('True label')\n",
    "    plt.xlabel('Predicted label')\n",
    "    plt.show()\n",
    "\n",
    "print(classification_report(test_labels, baseline_predicted))\n",
    "visualize_confusion_matrix(y_pred_argmax, y_true)"
   ]
  },
  {
   "cell_type": "markdown",
   "metadata": {
    "colab_type": "text",
    "id": "1ZcUwKTbzFta"
   },
   "source": [
    "### Save model"
   ]
  },
  {
   "cell_type": "code",
   "execution_count": 86,
   "metadata": {
    "colab": {
     "base_uri": "https://localhost:8080/",
     "height": 104
    },
    "colab_type": "code",
    "executionInfo": {
     "elapsed": 29481,
     "status": "ok",
     "timestamp": 1582087714514,
     "user": {
      "displayName": "Yongze Yu",
      "photoUrl": "",
      "userId": "18328208656182681139"
     },
     "user_tz": 300
    },
    "id": "QJYx2i11y82p",
    "outputId": "26aac95b-b226-4c6a-a08f-ac335ab8636c"
   },
   "outputs": [
    {
     "name": "stdout",
     "output_type": "stream",
     "text": [
      "WARNING:tensorflow:From /usr/local/lib/python3.6/dist-packages/tensorflow_core/python/ops/resource_variable_ops.py:1781: calling BaseResourceVariable.__init__ (from tensorflow.python.ops.resource_variable_ops) with constraint is deprecated and will be removed in a future version.\n",
      "Instructions for updating:\n",
      "If using Keras pass *_constraint arguments to layers.\n",
      "INFO:tensorflow:Assets written to: ./202002/assets\n"
     ]
    }
   ],
   "source": [
    "tf.saved_model.save(model, './202002')"
   ]
  },
  {
   "cell_type": "markdown",
   "metadata": {
    "colab_type": "text",
    "id": "P-i1j_FX4mBq"
   },
   "source": [
    "## How-to-use-Saved-Model"
   ]
  },
  {
   "cell_type": "markdown",
   "metadata": {
    "colab_type": "text",
    "id": "R4QrVRwn4puF"
   },
   "source": [
    "In the previous tutorial, we looked at building a sentiment classifier for movie reviews. At the end of that exercise we saved our model so that we can reuse it.\n",
    "\n",
    "As seen in the command below, the SavedModel requires attention_mask, input_ids, and token_type_ids as inputs. These are the inputs that are required by the Google BERT model that we are using. Lucky for us, we can use the HuggingFace Transformers class to convert a sentence into the required inputs."
   ]
  },
  {
   "cell_type": "code",
   "execution_count": 134,
   "metadata": {
    "colab": {
     "base_uri": "https://localhost:8080/",
     "height": 334
    },
    "colab_type": "code",
    "executionInfo": {
     "elapsed": 5541,
     "status": "ok",
     "timestamp": 1582081280282,
     "user": {
      "displayName": "Yongze Yu",
      "photoUrl": "",
      "userId": "18328208656182681139"
     },
     "user_tz": 300
    },
    "id": "1-kOklKTzOlr",
    "outputId": "178a16af-64d6-49af-e091-0a3012fe1390"
   },
   "outputs": [
    {
     "name": "stdout",
     "output_type": "stream",
     "text": [
      "The given SavedModel SignatureDef contains the following input(s):\n",
      "  inputs['attention_mask'] tensor_info:\n",
      "      dtype: DT_INT32\n",
      "      shape: (-1, 128)\n",
      "      name: serving_default_attention_mask:0\n",
      "  inputs['input_ids'] tensor_info:\n",
      "      dtype: DT_INT32\n",
      "      shape: (-1, 128)\n",
      "      name: serving_default_input_ids:0\n",
      "  inputs['token_type_ids'] tensor_info:\n",
      "      dtype: DT_INT32\n",
      "      shape: (-1, 128)\n",
      "      name: serving_default_token_type_ids:0\n",
      "The given SavedModel SignatureDef contains the following output(s):\n",
      "  outputs['output_1'] tensor_info:\n",
      "      dtype: DT_FLOAT\n",
      "      shape: (-1, 2)\n",
      "      name: StatefulPartitionedCall:0\n",
      "Method name is: tensorflow/serving/predict\n"
     ]
    }
   ],
   "source": [
    "!saved_model_cli show --dir ./202002 --tag_set serve --signature_def serving_default"
   ]
  },
  {
   "cell_type": "markdown",
   "metadata": {
    "colab_type": "text",
    "id": "NEnGm6_B6fte"
   },
   "source": [
    "The following commands are going to load our model and the tokenizer which converts words into numbers."
   ]
  },
  {
   "cell_type": "code",
   "execution_count": 0,
   "metadata": {
    "colab": {},
    "colab_type": "code",
    "id": "tNQCVvSs5_qn"
   },
   "outputs": [],
   "source": [
    "savedmodel = tf.saved_model.load('./202002')\n"
   ]
  },
  {
   "cell_type": "code",
   "execution_count": 0,
   "metadata": {
    "colab": {},
    "colab_type": "code",
    "id": "to68DWyb6Psj"
   },
   "outputs": [],
   "source": [
    "tokenizer = BertTokenizer.from_pretrained('bert-base-cased')\n"
   ]
  },
  {
   "cell_type": "markdown",
   "metadata": {
    "colab_type": "text",
    "id": "xLWv7WHf6iQq"
   },
   "source": [
    "The next step in this process is to create something that the Transformers library can process. For our example, we are going to create a dictionary with the required tensors, feed that dictionary into a data pipeline, and have the Transformers library generate input based on the pipeline."
   ]
  },
  {
   "cell_type": "code",
   "execution_count": 0,
   "metadata": {
    "colab": {},
    "colab_type": "code",
    "id": "JU4XNtEb6dL_"
   },
   "outputs": [],
   "source": [
    "example = {'idx': tf.constant(1, dtype=tf.int64), 'label': tf.constant(0, dtype=tf.int64) ,\n",
    "           'sentence': tf.constant('This is the best store that I have ever visited', dtype=tf.string)}"
   ]
  },
  {
   "cell_type": "code",
   "execution_count": 0,
   "metadata": {
    "colab": {},
    "colab_type": "code",
    "id": "vHLGExi46qyr"
   },
   "outputs": [],
   "source": [
    "ds = tf.data.Dataset.from_tensors(example)\n",
    "feature_ds = glue_convert_examples_to_features(ds, tokenizer, max_length=128, task='sst-2')\n",
    "feature_dataset = feature_ds.batch(1)"
   ]
  },
  {
   "cell_type": "markdown",
   "metadata": {
    "colab_type": "text",
    "id": "O-tbQJgx68jA"
   },
   "source": [
    "Great! Now we have features in the format required by the Google BERT model. The following function is going to convert these features into an actual prediction."
   ]
  },
  {
   "cell_type": "code",
   "execution_count": 0,
   "metadata": {
    "colab": {},
    "colab_type": "code",
    "id": "9wilS_mw6wPk"
   },
   "outputs": [],
   "source": [
    "def predict_dataset(feature_dataset, savedmodel):\n",
    "    \"\"\"\n",
    "    :param feature_dataset: Contains information needed for BERT\n",
    "    :param savedmodel: This is the model that has been pretrained in a sep process.\n",
    "    :return: JSON output with the predicted classification. \n",
    "    \"\"\"\n",
    "    \n",
    "    json_examples = []\n",
    "    for feature_batch in feature_dataset.take(-1):\n",
    "        feature_example = feature_batch[0]\n",
    "\n",
    "        # The SavedModel is going to generate log probabilities (logits) as to whether the sentence\n",
    "        # is negative (0) or positive (1).\n",
    "        logits = savedmodel.signatures[\"serving_default\"](attention_mask=feature_example['attention_mask'],\n",
    "                            input_ids=feature_example['input_ids'],\n",
    "                            token_type_ids=feature_example['token_type_ids'])['output_1']\n",
    "        print(f\"logits {logits}\")\n",
    "        \n",
    "        # It is more helpful to have the actual probabilities of success. The TensorFlow softmax \n",
    "        # function will convert the logits into probabilities.\n",
    "        probs = tf.nn.softmax(logits)\n",
    "        \n",
    "        # At this point we have probabilities (probs) of whether the sentence is negative or positive. \n",
    "        # These probabilites (by definition) will always sum to 100%.\n",
    "        \n",
    "        # It would be better though if we could just report out which probability is higher. \n",
    "        # This is done with the argmax function.\n",
    "        \n",
    "        prediction = tf.math.argmax(probs, axis=1)\n",
    "\n",
    "        print(f\"probs {probs}\")\n",
    "        print(f\"prediction {prediction}\")\n",
    "\n",
    "        json_example = {\"SENTIMENT_PREDICTION\": str(prediction.numpy()[0])}\n",
    "        json_examples.append(json_example)\n",
    "\n",
    "    return json_examples"
   ]
  },
  {
   "cell_type": "code",
   "execution_count": 0,
   "metadata": {
    "colab": {},
    "colab_type": "code",
    "id": "1jf9psPp8OwW"
   },
   "outputs": [],
   "source": [
    "negative_example = {'idx': tf.constant(1, dtype=tf.int64), 'label': tf.constant(0, dtype=tf.int64) ,\n",
    "                    'sentence': tf.constant('This store is absolutely horrible and I hate it!!',\n",
    "                                            dtype=tf.string)}"
   ]
  },
  {
   "cell_type": "code",
   "execution_count": 93,
   "metadata": {
    "colab": {
     "base_uri": "https://localhost:8080/",
     "height": 67
    },
    "colab_type": "code",
    "executionInfo": {
     "elapsed": 24481,
     "status": "ok",
     "timestamp": 1582087728948,
     "user": {
      "displayName": "Yongze Yu",
      "photoUrl": "",
      "userId": "18328208656182681139"
     },
     "user_tz": 300
    },
    "id": "EI6Gy4yF8U6i",
    "outputId": "7eb552cb-5f8d-4172-cdd8-4d78c9395de9"
   },
   "outputs": [
    {
     "data": {
      "text/plain": [
       "{'idx': <tf.Tensor: id=313431, shape=(), dtype=int64, numpy=1>,\n",
       " 'label': <tf.Tensor: id=313432, shape=(), dtype=int64, numpy=0>,\n",
       " 'sentence': <tf.Tensor: id=313433, shape=(), dtype=string, numpy=b'This store is absolutely horrible and I hate it!!'>}"
      ]
     },
     "execution_count": 93,
     "metadata": {
      "tags": []
     },
     "output_type": "execute_result"
    }
   ],
   "source": [
    "negative_example\n"
   ]
  },
  {
   "cell_type": "code",
   "execution_count": 0,
   "metadata": {
    "colab": {},
    "colab_type": "code",
    "id": "cJvS3TvH8WQk"
   },
   "outputs": [],
   "source": [
    "def predict(example, tokenizer, savedmodel):\n",
    "    \"\"\"\n",
    "\n",
    "    :param example: This is a single dictionary of tensors which contains a idx, a label, and a sentence\n",
    "    :return: The prediction in JSON format. 1 is positive, and 0 is negative.\n",
    "    \"\"\"\n",
    "    # The Transformers glue_convert_examples_to_features works well with datasets. \n",
    "    # It does not work well with a dictionary of examples. \n",
    "    ds = tf.data.Dataset.from_tensors(example)\n",
    "    \n",
    "    # Use the transformers library in order to convert an English sentence into something that \n",
    "    # BERT recognizes.\n",
    "    \n",
    "    # The conversion requires giving a label (even if we don't have one). The e-asiest way to get around this is to get around\n",
    "    # this is to assign a default label of zero when you don't have a label. \n",
    "    \n",
    "    feature_ds = glue_convert_examples_to_features(ds, tokenizer, max_length=512, task='sst-2')\n",
    "\n",
    "    feature_dataset = feature_ds.batch(64)\n",
    "    json_examples = predict_dataset(feature_dataset, savedmodel)\n",
    "\n",
    "    return json_examples"
   ]
  },
  {
   "cell_type": "code",
   "execution_count": 0,
   "metadata": {
    "colab": {},
    "colab_type": "code",
    "id": "YHbQ7vYvWYzP"
   },
   "outputs": [],
   "source": [
    "json_result = predict(negative_example, tokenizer, savedmodel)"
   ]
  },
  {
   "cell_type": "code",
   "execution_count": 0,
   "metadata": {
    "colab": {},
    "colab_type": "code",
    "id": "joCypzEw8mSr"
   },
   "outputs": [],
   "source": [
    "predict(example, tokenizer, savedmodel)"
   ]
  },
  {
   "cell_type": "markdown",
   "metadata": {
    "colab_type": "text",
    "id": "cKTBvk-IVP6e"
   },
   "source": [
    "# Base Line"
   ]
  },
  {
   "cell_type": "markdown",
   "metadata": {
    "colab_type": "text",
    "id": "3tCZGQu5qQE1"
   },
   "source": [
    "You may wonder how does a baseline model perform on this dataset. Below are only couple lines code using BOW(bag of words) and Logistic Regression. "
   ]
  },
  {
   "cell_type": "code",
   "execution_count": 0,
   "metadata": {
    "colab": {},
    "colab_type": "code",
    "id": "GEkIleF-VPDG"
   },
   "outputs": [],
   "source": [
    "from sklearn.feature_extraction.text import CountVectorizer\n",
    "from sklearn.linear_model import LogisticRegression\n",
    "from sklearn.pipeline import make_pipeline\n",
    "from sklearn.metrics import classification_report"
   ]
  },
  {
   "cell_type": "code",
   "execution_count": 0,
   "metadata": {
    "colab": {},
    "colab_type": "code",
    "id": "DmTf2JqGVjld"
   },
   "outputs": [],
   "source": [
    "train_texts, train_labels = [row[1] for row in train_csv], [row[2] for row in train_csv]\n",
    "test_texts, test_labels =  [row[1] for row in test_csv], [row[2] for row in test_csv]"
   ]
  },
  {
   "cell_type": "code",
   "execution_count": 44,
   "metadata": {
    "colab": {
     "base_uri": "https://localhost:8080/",
     "height": 33
    },
    "colab_type": "code",
    "executionInfo": {
     "elapsed": 362,
     "status": "ok",
     "timestamp": 1582084992328,
     "user": {
      "displayName": "Yongze Yu",
      "photoUrl": "",
      "userId": "18328208656182681139"
     },
     "user_tz": 300
    },
    "id": "2RcRjmWwXxYT",
    "outputId": "c6cda9e1-fbdc-414e-9f6a-8255e87de521"
   },
   "outputs": [
    {
     "data": {
      "text/plain": [
       "(4000, 4000)"
      ]
     },
     "execution_count": 44,
     "metadata": {
      "tags": []
     },
     "output_type": "execute_result"
    }
   ],
   "source": [
    "len(train_texts) ,  len(train_labels)"
   ]
  },
  {
   "cell_type": "code",
   "execution_count": 48,
   "metadata": {
    "colab": {
     "base_uri": "https://localhost:8080/",
     "height": 170
    },
    "colab_type": "code",
    "executionInfo": {
     "elapsed": 24008,
     "status": "ok",
     "timestamp": 1582085061540,
     "user": {
      "displayName": "Yongze Yu",
      "photoUrl": "",
      "userId": "18328208656182681139"
     },
     "user_tz": 300
    },
    "id": "6SQ0NpmsVO7J",
    "outputId": "83bf5c52-1e57-4ff7-b2fb-12768b16efff"
   },
   "outputs": [
    {
     "name": "stderr",
     "output_type": "stream",
     "text": [
      "/usr/local/lib/python3.6/dist-packages/sklearn/linear_model/_logistic.py:940: ConvergenceWarning: lbfgs failed to converge (status=1):\n",
      "STOP: TOTAL NO. of ITERATIONS REACHED LIMIT.\n",
      "\n",
      "Increase the number of iterations (max_iter) or scale the data as shown in:\n",
      "    https://scikit-learn.org/stable/modules/preprocessing.html\n",
      "Please also refer to the documentation for alternative solver options:\n",
      "    https://scikit-learn.org/stable/modules/linear_model.html#logistic-regression\n",
      "  extra_warning_msg=_LOGISTIC_SOLVER_CONVERGENCE_MSG)\n"
     ]
    }
   ],
   "source": [
    "baseline_model = make_pipeline(CountVectorizer(ngram_range=(1,3)), LogisticRegression()).fit(train_texts, train_labels)"
   ]
  },
  {
   "cell_type": "code",
   "execution_count": 0,
   "metadata": {
    "colab": {},
    "colab_type": "code",
    "id": "shrx0pp9VOiq"
   },
   "outputs": [],
   "source": [
    "baseline_predicted = baseline_model.predict(test_texts)"
   ]
  },
  {
   "cell_type": "code",
   "execution_count": 50,
   "metadata": {
    "colab": {
     "base_uri": "https://localhost:8080/",
     "height": 167
    },
    "colab_type": "code",
    "executionInfo": {
     "elapsed": 24715,
     "status": "ok",
     "timestamp": 1582085063921,
     "user": {
      "displayName": "Yongze Yu",
      "photoUrl": "",
      "userId": "18328208656182681139"
     },
     "user_tz": 300
    },
    "id": "ymHmhkB7YVxE",
    "outputId": "5d215286-3838-46b8-aaf1-ba572c55302c"
   },
   "outputs": [
    {
     "name": "stdout",
     "output_type": "stream",
     "text": [
      "              precision    recall  f1-score   support\n",
      "\n",
      "           0       0.85      0.86      0.86      2475\n",
      "           1       0.86      0.86      0.86      2525\n",
      "\n",
      "    accuracy                           0.86      5000\n",
      "   macro avg       0.86      0.86      0.86      5000\n",
      "weighted avg       0.86      0.86      0.86      5000\n",
      "\n"
     ]
    }
   ],
   "source": [
    "print(classification_report(test_labels, baseline_predicted))"
   ]
  },
  {
   "cell_type": "code",
   "execution_count": 133,
   "metadata": {
    "colab": {
     "base_uri": "https://localhost:8080/",
     "height": 311
    },
    "colab_type": "code",
    "executionInfo": {
     "elapsed": 1482,
     "status": "ok",
     "timestamp": 1582081129024,
     "user": {
      "displayName": "Yongze Yu",
      "photoUrl": "",
      "userId": "18328208656182681139"
     },
     "user_tz": 300
    },
    "id": "YfikhjchYWcv",
    "outputId": "8fde2760-08d0-4478-b4f0-5f0c105e9bf4"
   },
   "outputs": [
    {
     "data": {
      "image/png": "[encoded data removed]",
      "text/plain": [
       "<Figure size 432x288 with 2 Axes>"
      ]
     },
     "metadata": {
      "tags": []
     },
     "output_type": "display_data"
    }
   ],
   "source": [
    "visualize_confusion_matrix(baseline_predicted,test_labels)"
   ]
  }
 ],
 "metadata": {
  "accelerator": "GPU",
  "colab": {
   "authorship_tag": "ABX9TyPtWNSi5wHW/a2wQOsC2Wgs",
   "collapsed_sections": [],
   "name": "BERT-text-classification-movie.ipynb",
   "provenance": [
    {
     "file_id": "1aA_Dox7RkoOMiDh_CM2wLLURyRl-2xyV",
     "timestamp": 1581984474356
    }
   ],
   "toc_visible": true
  },
  "kernelspec": {
   "display_name": "Python 3",
   "language": "python",
   "name": "python3"
  },
  "language_info": {
   "codemirror_mode": {
    "name": "ipython",
    "version": 3
   },
   "file_extension": ".py",
   "mimetype": "text/x-python",
   "name": "python",
   "nbconvert_exporter": "python",
   "pygments_lexer": "ipython3",
   "version": "3.6.8"
  },
  "toc": {
   "base_numbering": 1,
   "nav_menu": {},
   "number_sections": true,
   "sideBar": true,
   "skip_h1_title": false,
   "title_cell": "Table of Contents",
   "title_sidebar": "Contents",
   "toc_cell": false,
   "toc_position": {},
   "toc_section_display": true,
   "toc_window_display": false
  }
 },
 "nbformat": 4,
 "nbformat_minor": 1
}
